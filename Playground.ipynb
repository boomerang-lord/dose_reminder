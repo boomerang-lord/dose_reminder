{
 "cells": [
  {
   "cell_type": "code",
   "execution_count": 3,
   "id": "a8133d75",
   "metadata": {},
   "outputs": [
    {
     "name": "stdout",
     "output_type": "stream",
     "text": [
      "['hello', 5, [3, 4, 5, 6, 7]]\n"
     ]
    }
   ],
   "source": [
    "list1 = []\n",
    "list1.append(\"hello\")\n",
    "list1.append(5)\n",
    "list2 = [3,4,5,6,7]\n",
    "list1.append(list2)\n",
    "print(list1)"
   ]
  },
  {
   "cell_type": "code",
   "execution_count": 4,
   "id": "076dcde6",
   "metadata": {},
   "outputs": [
    {
     "name": "stdout",
     "output_type": "stream",
     "text": [
      "{'id1': []}\n"
     ]
    }
   ],
   "source": [
    "testd = {\"id1\":[]}\n",
    "print(testd)"
   ]
  },
  {
   "cell_type": "code",
   "execution_count": 5,
   "id": "3b6dd653",
   "metadata": {},
   "outputs": [],
   "source": [
    "testd[\"id1\"].append(2)"
   ]
  },
  {
   "cell_type": "code",
   "execution_count": 6,
   "id": "99de1a4d",
   "metadata": {},
   "outputs": [
    {
     "name": "stdout",
     "output_type": "stream",
     "text": [
      "{'id1': [2]}\n"
     ]
    }
   ],
   "source": [
    "print(testd)"
   ]
  },
  {
   "cell_type": "code",
   "execution_count": 14,
   "id": "168e8ce0",
   "metadata": {},
   "outputs": [],
   "source": [
    "t1 = ([],6)\n",
    "t1[0].append(5)\n",
    "t1[0].append(6)\n",
    "t1[0].append(7)"
   ]
  },
  {
   "cell_type": "code",
   "execution_count": 15,
   "id": "20693dfa",
   "metadata": {},
   "outputs": [
    {
     "name": "stdout",
     "output_type": "stream",
     "text": [
      "([5, 6, 7], 6)\n"
     ]
    }
   ],
   "source": [
    "print(t1)"
   ]
  },
  {
   "cell_type": "code",
   "execution_count": 27,
   "id": "c4e00f39",
   "metadata": {},
   "outputs": [],
   "source": [
    "testlist = [{\"id\": []}]\n",
    "testlist[0][\"id\"].append(5)\n",
    "testlist[0][\"id\"].append(6)\n",
    "testlist.append(\"pred\")\n"
   ]
  },
  {
   "cell_type": "code",
   "execution_count": 30,
   "id": "34fdbfe8",
   "metadata": {},
   "outputs": [
    {
     "name": "stdout",
     "output_type": "stream",
     "text": [
      "2\n"
     ]
    }
   ],
   "source": [
    "print(len(testlist))"
   ]
  },
  {
   "cell_type": "code",
   "execution_count": 6,
   "id": "48166985",
   "metadata": {},
   "outputs": [
    {
     "name": "stdout",
     "output_type": "stream",
     "text": [
      "2\n",
      "2\n",
      "2\n",
      "2\n",
      "2\n",
      "2\n",
      "2\n",
      "2\n",
      "2\n",
      "2\n",
      "2\n",
      "2\n",
      "2\n",
      "2\n",
      "2\n",
      "2\n",
      "2\n",
      "2\n",
      "2\n",
      "2\n",
      "2\n",
      "2\n",
      "2\n",
      "2\n",
      "2\n",
      "2\n",
      "2\n",
      "2\n",
      "2\n",
      "2\n",
      "2\n",
      "2\n",
      "2\n",
      "3\n",
      "3\n",
      "3\n",
      "3\n",
      "3\n",
      "3\n",
      "3\n",
      "3\n",
      "3\n",
      "4\n",
      "4\n",
      "4\n",
      "4\n",
      "4\n",
      "4\n",
      "4\n",
      "4\n",
      "5\n",
      "5\n",
      "5\n",
      "5\n",
      "5\n",
      "5\n",
      "5\n",
      "6\n",
      "6\n",
      "6\n",
      "6\n",
      "6\n",
      "6\n",
      "7\n",
      "7\n",
      "7\n",
      "7\n",
      "7\n",
      "7\n",
      "7\n",
      "7\n",
      "7\n",
      "8\n",
      "8\n",
      "8\n",
      "2\n",
      "2\n",
      "9\n"
     ]
    }
   ],
   "source": [
    "# code for removing duplicates in python\n",
    "\n",
    "l1 = [1,2,2,2,3,4,5,6,7,7,8,2,9]\n",
    "\n",
    "\n",
    "for x in range(len(l1)):\n",
    "    count = x + 1\n",
    "    siz = len(l1) - count\n",
    "    for y in range(siz):\n",
    "        print(l1[count])"
   ]
  },
  {
   "cell_type": "code",
   "execution_count": null,
   "id": "c06de713",
   "metadata": {},
   "outputs": [],
   "source": []
  }
 ],
 "metadata": {
  "kernelspec": {
   "display_name": "Python 3 (ipykernel)",
   "language": "python",
   "name": "python3"
  },
  "language_info": {
   "codemirror_mode": {
    "name": "ipython",
    "version": 3
   },
   "file_extension": ".py",
   "mimetype": "text/x-python",
   "name": "python",
   "nbconvert_exporter": "python",
   "pygments_lexer": "ipython3",
   "version": "3.9.7"
  }
 },
 "nbformat": 4,
 "nbformat_minor": 5
}
