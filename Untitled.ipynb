{
 "cells": [
  {
   "cell_type": "code",
   "execution_count": 1,
   "id": "96582899",
   "metadata": {},
   "outputs": [
    {
     "name": "stdout",
     "output_type": "stream",
     "text": [
      "hello\n"
     ]
    }
   ],
   "source": [
    "print(\"hello\")"
   ]
  },
  {
   "cell_type": "code",
   "execution_count": 34,
   "id": "75e4ebcb",
   "metadata": {},
   "outputs": [],
   "source": [
    "objlist = []\n",
    "str1 = \" \"\n",
    "f = open(\"database.txt\", \"r\")\n",
    "for x in f.readlines():\n",
    "    str1 = x\n",
    "    objlist.append(x)\n",
    "    #print(x)\n",
    "str2 = str1.split(\"}\")"
   ]
  },
  {
   "cell_type": "code",
   "execution_count": 53,
   "id": "e6915f08",
   "metadata": {},
   "outputs": [
    {
     "name": "stdout",
     "output_type": "stream",
     "text": [
      "2023, 12, 10, 20, 46, 44, 297000\n",
      "2023, 12, 11, 2, 31, 42, 819000\n",
      "2023, 12, 11, 15, 39, 27, 119000\n",
      "2023, 12, 12, 3, 3, 28, 161000\n",
      "2023, 12, 12, 15, 7, 21, 933000\n",
      "2023, 12, 13, 5, 36, 33, 12000\n",
      "2023, 12, 13, 15, 21, 24, 276000\n",
      "2023, 12, 14, 2, 3, 13, 451000\n",
      "2023, 12, 16, 4, 24, 31, 715000\n",
      "2023, 12, 16, 4, 24, 59, 58000\n",
      "2023, 12, 16, 4, 27, 24, 156000\n",
      "2023, 12, 16, 4, 56, 45, 592000\n",
      "2023, 12, 16, 4, 57, 38, 103000\n",
      "2023, 12, 16, 4, 57, 50, 482000\n",
      "2023, 12, 16, 5, 9, 11, 544000\n",
      "2023, 12, 17, 4, 54, 5, 212000\n",
      "2023, 12, 17, 15, 54, 32, 972000\n",
      "2023, 12, 18, 3, 22, 18, 32000\n",
      "2023, 12, 18, 15, 19, 31, 838000\n"
     ]
    }
   ],
   "source": [
    "\n",
    "timelist = []\n",
    "for x in str2:\n",
    "    if(x[64:78] == '97648162293556'):\n",
    "        \n",
    "        time = x[141:-1]\n",
    "        print(time)\n",
    "        time2 = time.split(\",\")\n",
    "        tmp = float(time2[3]) + float(time2[4])/60 + float(time2[5])/(60* 60) + float(time2[6])/(60* 60 * 60)\n",
    "        #print(time2[6])\n",
    "        timelist.append(int(tmp))\n",
    "        \n",
    "        #timelist.append(x[141:-1])\n",
    "        #print(x[63:79])\n",
    "    "
   ]
  },
  {
   "cell_type": "code",
   "execution_count": 54,
   "id": "bc7dc56a",
   "metadata": {},
   "outputs": [
    {
     "name": "stdout",
     "output_type": "stream",
     "text": [
      "22\n",
      "6\n",
      "16\n",
      "3\n",
      "19\n",
      "5\n",
      "16\n",
      "4\n",
      "7\n",
      "4\n",
      "5\n",
      "7\n",
      "5\n",
      "7\n",
      "7\n",
      "5\n",
      "20\n",
      "3\n",
      "19\n",
      "22\n"
     ]
    }
   ],
   "source": [
    "for x in timelist:\n",
    "    x = int(x)\n",
    "    \n",
    "    print(x)\n"
   ]
  },
  {
   "cell_type": "code",
   "execution_count": 56,
   "id": "283f9f8e",
   "metadata": {},
   "outputs": [],
   "source": [
    "dict1 = {}\n",
    "for x in timelist:\n",
    "    dict1.update({x:0})\n"
   ]
  },
  {
   "cell_type": "code",
   "execution_count": 63,
   "id": "3a5b9cca",
   "metadata": {},
   "outputs": [],
   "source": [
    "for x in timelist:\n",
    "    for y in dict1:\n",
    "        if (x == y):\n",
    "            dict1[x] = dict1[x] + 1\n",
    "#print(dict1)"
   ]
  },
  {
   "cell_type": "code",
   "execution_count": 65,
   "id": "82ebc80d",
   "metadata": {},
   "outputs": [
    {
     "name": "stdout",
     "output_type": "stream",
     "text": [
      "{22: 1, 6: 1, 16: 2, 3: 2, 19: 2, 5: 4, 4: 2, 7: 4, 20: 1}\n"
     ]
    }
   ],
   "source": [
    "print(dict1)\n"
   ]
  },
  {
   "cell_type": "code",
   "execution_count": 66,
   "id": "7b0dab60",
   "metadata": {},
   "outputs": [],
   "source": [
    "x_val = []\n",
    "y_val = []\n",
    "\n",
    "for x in dict1:\n",
    "    x_val.append(x)\n",
    "    y_val.append(dict1[x])"
   ]
  },
  {
   "cell_type": "code",
   "execution_count": 85,
   "id": "c2bcd7e0",
   "metadata": {},
   "outputs": [
    {
     "name": "stdout",
     "output_type": "stream",
     "text": [
      "[[22  1]\n",
      " [ 6  1]\n",
      " [16  2]\n",
      " [ 3  2]\n",
      " [19  2]\n",
      " [ 5  4]\n",
      " [ 4  2]\n",
      " [ 7  4]\n",
      " [20  1]]\n"
     ]
    }
   ],
   "source": [
    "\n",
    "data = list(zip(x_val, y_val))\n",
    "data = np.array(data)\n",
    "print((data))"
   ]
  },
  {
   "cell_type": "code",
   "execution_count": 87,
   "id": "06ac464f",
   "metadata": {},
   "outputs": [
    {
     "name": "stdout",
     "output_type": "stream",
     "text": [
      "Mean of Cluster 1: [19.25  1.5 ]\n",
      "Mean of Cluster 2: [5.  2.6]\n",
      "[0 1 0 1 0 1 1 1 0]\n"
     ]
    },
    {
     "name": "stderr",
     "output_type": "stream",
     "text": [
      "/Users/sarathkamalkavitha/opt/anaconda3/lib/python3.9/site-packages/sklearn/cluster/_kmeans.py:870: FutureWarning: The default value of `n_init` will change from 10 to 'auto' in 1.4. Set the value of `n_init` explicitly to suppress the warning\n",
      "  warnings.warn(\n"
     ]
    },
    {
     "data": {
      "image/png": "[encoded data removed]",
      "text/plain": [
       "<Figure size 432x288 with 1 Axes>"
      ]
     },
     "metadata": {
      "needs_background": "light"
     },
     "output_type": "display_data"
    }
   ],
   "source": [
    "from sklearn.cluster import KMeans\n",
    "import matplotlib.pyplot as plt\n",
    "import numpy as np\n",
    "\n",
    "\n",
    "kmeans = KMeans(n_clusters=2)\n",
    "kmeans.fit(data)\n",
    "\n",
    "\n",
    "# Get cluster assignments and centroids\n",
    "cluster_assignments = kmeans.labels_\n",
    "cluster_centroids = kmeans.cluster_centers_\n",
    "\n",
    "unique_clusters = np.unique(cluster_assignments)\n",
    "cluster_means = []\n",
    "\n",
    "for cluster_label in unique_clusters:\n",
    "    cluster_points = data[cluster_assignments == cluster_label]\n",
    "    cluster_mean = np.mean(cluster_points, axis=0)\n",
    "    cluster_means.append(cluster_mean)\n",
    "\n",
    "# Convert the list of means to a NumPy array\n",
    "cluster_means_array = np.array(cluster_means)\n",
    "\n",
    "# Print the means of each cluster\n",
    "for i, mean in enumerate(cluster_means_array):\n",
    "    print(f\"Mean of Cluster {i + 1}: {mean}\")\n",
    "\n",
    "predicted_labels = kmeans.predict(data)\n",
    "plt.scatter(x_val, y_val, c=kmeans.labels_, cmap='viridis', edgecolors='k')\n",
    "print(predicted_labels)\n",
    "\n",
    "plt.show()"
   ]
  },
  {
   "cell_type": "code",
   "execution_count": null,
   "id": "174dcb49",
   "metadata": {},
   "outputs": [],
   "source": []
  },
  {
   "cell_type": "code",
   "execution_count": null,
   "id": "9bc58855",
   "metadata": {},
   "outputs": [],
   "source": []
  }
 ],
 "metadata": {
  "kernelspec": {
   "display_name": "Python 3 (ipykernel)",
   "language": "python",
   "name": "python3"
  },
  "language_info": {
   "codemirror_mode": {
    "name": "ipython",
    "version": 3
   },
   "file_extension": ".py",
   "mimetype": "text/x-python",
   "name": "python",
   "nbconvert_exporter": "python",
   "pygments_lexer": "ipython3",
   "version": "3.9.7"
  }
 },
 "nbformat": 4,
 "nbformat_minor": 5
}
